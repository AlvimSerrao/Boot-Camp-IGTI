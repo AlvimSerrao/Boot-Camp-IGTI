{
  "nbformat": 4,
  "nbformat_minor": 0,
  "metadata": {
    "colab": {
      "name": "Desafio Módulo 3",
      "provenance": [],
      "authorship_tag": "ABX9TyP2WjQehjmWvyihbuiD0BtX",
      "include_colab_link": true
    },
    "kernelspec": {
      "name": "python3",
      "display_name": "Python 3"
    }
  },
  "cells": [
    {
      "cell_type": "markdown",
      "metadata": {
        "id": "view-in-github",
        "colab_type": "text"
      },
      "source": [
        "<a href=\"https://colab.research.google.com/github/AlvimSerrao/Boot-Camp-IGTI/blob/master/Desafio_M%C3%B3dulo_3.ipynb\" target=\"_parent\"><img src=\"https://colab.research.google.com/assets/colab-badge.svg\" alt=\"Open In Colab\"/></a>"
      ]
    },
    {
      "cell_type": "markdown",
      "metadata": {
        "id": "ls9432GzHQi4",
        "colab_type": "text"
      },
      "source": [
        "É um desafio mais teórico, então, menos código mais texto explicativo.\n"
      ]
    },
    {
      "cell_type": "markdown",
      "metadata": {
        "id": "auv858ANHFk1",
        "colab_type": "text"
      },
      "source": [
        "# Questão 1"
      ]
    },
    {
      "cell_type": "markdown",
      "metadata": {
        "id": "B_05WC2GHKVR",
        "colab_type": "text"
      },
      "source": [
        "**Qual métrica de qualidade você considera a mais importante para medir o desempenho do seu algoritmo de classificação?**\n",
        "\n",
        "Precisão, porque falsos positivos não podem passar."
      ]
    },
    {
      "cell_type": "markdown",
      "metadata": {
        "id": "QSMTXuiCI-YB",
        "colab_type": "text"
      },
      "source": [
        "# Questão 2"
      ]
    },
    {
      "cell_type": "markdown",
      "metadata": {
        "id": "iHmS0TO2JB95",
        "colab_type": "text"
      },
      "source": [
        "**Suponha que seu contratante lhe deu 5000 exemplos de números que seu programa terá que classificar. Os exemplos, no entanto, não foram classificados previamente. Que tipo de algoritmo você usaria para gerar um modelo para essa base de dados?**\n",
        "\n",
        "Como não foram classificados, a melhor alternativa seria agrupamento. É um algoritmo capaz de agrupar o dado em K grupos, sem precisar de uma classificação prévia. O algoritmo tentará encontrar um padrão entre os exemplos e classificá-los por conta própria."
      ]
    },
    {
      "cell_type": "markdown",
      "metadata": {
        "id": "2F8p2_7MJ81z",
        "colab_type": "text"
      },
      "source": [
        "# Questão 3"
      ]
    },
    {
      "cell_type": "markdown",
      "metadata": {
        "id": "X8WgEU1YKQ0h",
        "colab_type": "text"
      },
      "source": [
        "**Suponha que você gerou uma curva de validação para testar o desempenho do seu algoritmo. Na curva, você comparou o desempenho do seu modelo com o desempenho do algoritmo na validação cruzada. O resultado exibiu a sua curva acima da curva da validação cruzada, ou seja, com desempenho bem melhor, e as curvas não convergiram. O que isso significa?**\n",
        "\n",
        "Duas frases chaves para essa questão, \"a sua curva acima da curva da validação cruzada\" e \"as curvas não convergiram\", isso significa que o seu modelo de treino está tendo overfitting, ou seja, que seu modelo tem um nível de acerto bem alto no treino, mas quando testado, através da validação cruzada, têm-se bastante erro."
      ]
    },
    {
      "cell_type": "markdown",
      "metadata": {
        "id": "M4WALSnlO-Lw",
        "colab_type": "text"
      },
      "source": [
        "# Questão 4"
      ]
    },
    {
      "cell_type": "markdown",
      "metadata": {
        "id": "2oJ_KJruO_5l",
        "colab_type": "text"
      },
      "source": [
        "**Para este tipo de problema, seu contratante te diz que é preferível que o algoritmo “erre sempre da mesma maneira” do que ele “erre de maneira errática”. Isso se dá porque, na etapa de conferência manual dos resultados incorretos, erros “previsíveis” são corrigidos  de forma mais barata. Que característica seria desejável seu algoritmo ter para que ele tivesse esse tipo de comportamento?**\n",
        "\n",
        "Errar sempre da mesma maneira, significa baixa variância, erros se \"repetem\", ou, sempre estão no mesmo lugar, não variam. Com alta tendência, por que são erros, ele não está acertando, eles estão deslocado do valor correto. Então, resposta é baixa variância e alta tendência. \n",
        "![alt text](https://dadosdadosdados.files.wordpress.com/2015/08/wpid-variance_bias.png?w=869)\n",
        "\n"
      ]
    },
    {
      "cell_type": "markdown",
      "metadata": {
        "id": "xQQJCAVHYfXK",
        "colab_type": "text"
      },
      "source": [
        "# Questão 5"
      ]
    },
    {
      "cell_type": "markdown",
      "metadata": {
        "id": "ek2qUz0NYhfo",
        "colab_type": "text"
      },
      "source": [
        "**Suponha que, após um ano com o seu algoritmo em execução, você perceba que os valores dos cheques tendem a ter magnitudes diferentes em diferentes épocas do ano. No final do ano, por exemplo, o normal é a maior parte dos cheques ter seis ou oito dígitos, considerando os centavos, enquanto no meio do ano a quantidade de dígitos é um tanto menor. Se você souber dessa tendência com antecedência, sua empresa poderá ajustar a etapa de conferência manual de dígitos errados, gerando economia de custos.**\n",
        "\n",
        "**Assim, você coleta de dados de “quantidade média de dígitos nos valores dos cheques” por “mês/ano”. Que técnica de aprendizado de máquina você usaria para tentar analisar esse comportamento e fazer previsões acerca dos meses futuros?**\n",
        "\n",
        "Erro mediano absoluto."
      ]
    },
    {
      "cell_type": "markdown",
      "metadata": {
        "id": "ZCXtAIRLYuh4",
        "colab_type": "text"
      },
      "source": [
        "#Questão 6"
      ]
    },
    {
      "cell_type": "markdown",
      "metadata": {
        "id": "p4gx3FZ6Y7UI",
        "colab_type": "text"
      },
      "source": [
        "**Suponha que seu cliente te enviou 2100 números classificados previamente para alimentar o treino dos eu algoritmo. Você gera seu modelo. Um tempo depois, seu cliente pergunta se você precisa de mais dados. A obtenção desses dados acarretará em custos maiores, portanto não deve ser feita a não ser que vá trazer benefícios reais para seu algoritmo. Como você poderia descobrir se vale a pena trazer mais dados para o seu algoritmo?**\n",
        "\n",
        "Usando curvas de aprendizados. \n",
        "\n",
        "Explicando as curvas: Você tem no eixo y, uma métrica de qualidade, e no eixo x, têm-se a quantidade de dados utilizados. Vai ter duas curvas, uma curva representa a validação cruzada e a outra representa a curva do seu modelo. Através de análise, você retira conclusão, se precisa ou não de mais dados, além de retirar uma conclusão da qualidade do seu modelo."
      ]
    },
    {
      "cell_type": "markdown",
      "metadata": {
        "id": "YW51gGhvYvI7",
        "colab_type": "text"
      },
      "source": [
        "# Questão 7"
      ]
    },
    {
      "cell_type": "markdown",
      "metadata": {
        "id": "ek-Mnz3QY7pJ",
        "colab_type": "text"
      },
      "source": [
        "**A técnica de validação cruzada “deixar P elementos de fora”, para o problema sob análise, seria uma boa escolha? Justifique sua resposta.**\n",
        "\n",
        "Compultacionalmente cara demais.\n"
      ]
    },
    {
      "cell_type": "markdown",
      "metadata": {
        "id": "bQGbkBZlYvM6",
        "colab_type": "text"
      },
      "source": [
        "# Questão 8"
      ]
    },
    {
      "cell_type": "markdown",
      "metadata": {
        "id": "wcRtMDecY7yx",
        "colab_type": "text"
      },
      "source": [
        "**Suponha que, num agrupamento para aquele conjunto de dados, teve-se valor elevado de entropia. O que isso melhor quer dizer em relação às imagens usadas no treino?**\n",
        "\n",
        "Entropia = Medi o grau de desordem. Então, se tem alto valor de entropia, o agrupamento tem uma grande mistura de dados. Ou seja, os números estão sendo confundidos. \n"
      ]
    },
    {
      "cell_type": "markdown",
      "metadata": {
        "id": "elqdyLEgYvLN",
        "colab_type": "text"
      },
      "source": [
        "# Questão 9"
      ]
    },
    {
      "cell_type": "markdown",
      "metadata": {
        "id": "dXSjgB4tY76H",
        "colab_type": "text"
      },
      "source": [
        "**Suponha que você tenha usado um classificador multilabel para resolver o seu problema. Marque a alternativa correta.**\n",
        "\n",
        "A perda 0-1 é a métrica de qualidade mais adequada aqui. Pois, a métrica 0-1 te passa se o objeto foi classificado corretamente ou não, indiferente da quantidade de erro em cada objeto. É sim ou não, certo ou errado. No caso da questão não se pode ter erro. "
      ]
    },
    {
      "cell_type": "markdown",
      "metadata": {
        "id": "pzbvZ9dvwb8o",
        "colab_type": "text"
      },
      "source": [
        "# Questão 10"
      ]
    },
    {
      "cell_type": "markdown",
      "metadata": {
        "id": "dubjYDMEwcMr",
        "colab_type": "text"
      },
      "source": [
        "**Qual técnica de validação cruzada você usaria para resolver o seu problema?**\n",
        "\n",
        "K-grupos, é uma boa opção. Não é tão cara, e é bem robusta."
      ]
    },
    {
      "cell_type": "markdown",
      "metadata": {
        "id": "dgCIkKEnwcVD",
        "colab_type": "text"
      },
      "source": [
        "# Questão 11"
      ]
    },
    {
      "cell_type": "markdown",
      "metadata": {
        "id": "OB5LKC-Qwcbt",
        "colab_type": "text"
      },
      "source": [
        "**Considere a seguinte matriz de confusão de um teste para as classificações dos números 1 a 4. São 300 exemplos de cada número. Calcule a acurácia para cada número**\n",
        "\n",
        "![alt text](https://igti.instructure.com/courses/2933/files/198567/download?wrap=1)\n",
        "\n",
        "Acúracia é igual ao acerto de positivos e negativos sobre amostra total.\n",
        "\n",
        "Acúracia 1 - 1090/1200 = 0,908\n",
        "\n",
        "Acúracia 2 - 910/1200 = 0,75\n",
        "\n",
        "Acúracia 3 - 980/1200 = 0,816\n",
        "\n",
        "Acúracia 4 - 1000/1200 = 0,833\n"
      ]
    },
    {
      "cell_type": "markdown",
      "metadata": {
        "id": "vK2kgx0vwhkq",
        "colab_type": "text"
      },
      "source": [
        "# Questão 12"
      ]
    },
    {
      "cell_type": "markdown",
      "metadata": {
        "id": "M_89r0iGwhqj",
        "colab_type": "text"
      },
      "source": [
        "**Considere a seguinte matriz de confusão de um teste para as classificações dos números 1 a 4. São 300 exemplos de cada número. Calcule a precisão para cada número.**\n",
        "\n",
        "![alt text](https://igti.instructure.com/courses/2933/files/198566/download?wrap=1)\n",
        "\n",
        "Precisão é o número de positivo verdadeiro sobre positivo verdadeiro + falso positivo. Trabalha com a coluna.\n",
        "\n",
        "Precisão 1 - 230/270 = 0,85\n",
        "\n",
        "Precisão 2 - 150/290 = 0,52\n",
        "\n",
        "Precisão 3 - 200/320 = 0,625\n",
        "\n",
        "Precisão 4 - 210/320 = 0,656"
      ]
    },
    {
      "cell_type": "markdown",
      "metadata": {
        "id": "bVbf4IEGwhv9",
        "colab_type": "text"
      },
      "source": [
        "# Questão 13"
      ]
    },
    {
      "cell_type": "markdown",
      "metadata": {
        "id": "07DVVmqpwhy_",
        "colab_type": "text"
      },
      "source": [
        "**Considere a seguinte matriz de confusão de um teste para as classificações dos números 1 a 4. São 300 exemplos de cada número. Calcule o recall para cada número.**\n",
        "\n",
        "![alt text](https://igti.instructure.com/courses/2933/files/198565/download?wrap=1)\n",
        "\n",
        "Recall é positivo verdadeiro sobre verdadeiro positivo + falso negativos. Trabalha com a linha.\n",
        "\n",
        "Recall 1 - 230/300 = 0,77\n",
        "\n",
        "Recall 2 - 150/300 = 0,5\n",
        "\n",
        "Recall 3 - 200/300 = 0,66\n",
        "\n",
        "Recall 4 - 210/300 = 0,7"
      ]
    },
    {
      "cell_type": "markdown",
      "metadata": {
        "id": "_OhkH6krwh2D",
        "colab_type": "text"
      },
      "source": [
        "# Questão 14"
      ]
    },
    {
      "cell_type": "markdown",
      "metadata": {
        "id": "riOXy2M1wnQb",
        "colab_type": "text"
      },
      "source": [
        "**Na técnica de validação cruzada “divisão 70-30”**\n",
        "\n",
        "Não há regra para a divisão, mas geralmente segue 70-30. "
      ]
    },
    {
      "cell_type": "markdown",
      "metadata": {
        "id": "kH1x5ewKwnbG",
        "colab_type": "text"
      },
      "source": [
        "# Questão 15"
      ]
    },
    {
      "cell_type": "markdown",
      "metadata": {
        "id": "o44yN2OMwpWR",
        "colab_type": "text"
      },
      "source": [
        "**O problema descrito melhor se classifica como um problema de…**\n",
        "\n",
        "O problema depende da modelagem. "
      ]
    }
  ]
}